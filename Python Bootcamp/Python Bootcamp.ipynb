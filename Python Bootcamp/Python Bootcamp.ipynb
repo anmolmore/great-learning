{
 "cells": [
  {
   "cell_type": "markdown",
   "id": "ecf02626",
   "metadata": {},
   "source": [
    "## slicing lists in python"
   ]
  },
  {
   "cell_type": "code",
   "execution_count": 1,
   "id": "2bb4104c",
   "metadata": {},
   "outputs": [
    {
     "name": "stdout",
     "output_type": "stream",
     "text": [
      "[[0.64737187 0.67483247 0.72911859 0.10923967 0.7506589 ]\n",
      " [0.35950155 0.150321   0.01841902 0.16619165 0.16476949]\n",
      " [0.50407495 0.09926565 0.28919111 0.90930914 0.43671785]\n",
      " [0.38406483 0.93697951 0.3684494  0.68131035 0.5352624 ]\n",
      " [0.27099426 0.4422391  0.08678201 0.23389632 0.09753267]]\n",
      "\n",
      "slice by rows, starting from 0th row to 1st row, take all columns ==>\n",
      "[[0.64737187 0.67483247 0.72911859 0.10923967 0.7506589 ]\n",
      " [0.35950155 0.150321   0.01841902 0.16619165 0.16476949]]\n",
      "\n",
      "slice by rows, starting from 1st row to 1st row, take all columns ==>\n",
      "[[0.35950155 0.150321   0.01841902 0.16619165 0.16476949]]\n",
      "\n",
      "slice by rows, starting from 1st row to 1st row, slice by columnns starting from 2nd to 3rd ==>\n",
      "[[0.01841902 0.16619165]]\n"
     ]
    }
   ],
   "source": [
    "# Ref : https://stackoverflow.com/questions/509211/understanding-slicing\n",
    "\n",
    "# [a:b,c:d] ==> rows starts from (a to b-1), columns from c to d-1\n",
    "# python indexes start from 0, ie. first element is considered at 0th position\n",
    "\n",
    "import numpy as np\n",
    "rand_mat = np.random.random((5,5))\n",
    "print(rand_mat)\n",
    "\n",
    "print(\"\\nslice by rows, starting from 0th row to 1st row, take all columns ==>\")\n",
    "print(rand_mat[0:2,:])\n",
    "\n",
    "print(\"\\nslice by rows, starting from 1st row to 1st row, take all columns ==>\")\n",
    "print(rand_mat[1:2,:])\n",
    "\n",
    "print(\"\\nslice by rows, starting from 1st row to 1st row, slice by columnns starting from 2nd to 3rd ==>\")\n",
    "print(rand_mat[1:2,2:4])"
   ]
  },
  {
   "cell_type": "code",
   "execution_count": null,
   "id": "c675e2b7",
   "metadata": {},
   "outputs": [],
   "source": []
  }
 ],
 "metadata": {
  "kernelspec": {
   "display_name": "Python 3",
   "language": "python",
   "name": "python3"
  },
  "language_info": {
   "codemirror_mode": {
    "name": "ipython",
    "version": 3
   },
   "file_extension": ".py",
   "mimetype": "text/x-python",
   "name": "python",
   "nbconvert_exporter": "python",
   "pygments_lexer": "ipython3",
   "version": "3.8.8"
  }
 },
 "nbformat": 4,
 "nbformat_minor": 5
}
