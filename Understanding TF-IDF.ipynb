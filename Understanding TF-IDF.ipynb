{
 "cells": [
  {
   "cell_type": "code",
   "execution_count": 1,
   "metadata": {},
   "outputs": [],
   "source": [
    "#Ref : https://github.com/pemagrg1/Magic-Of-TFIDF/blob/master/notebooks/TF-IDF%20from%20Scratch.ipynb\n",
    "# https://stackoverflow.com/questions/53619472/how-to-make-term-frequency-matrix-in-python\n",
    "\n",
    "#https://towardsdatascience.com/how-sklearns-tf-idf-is-different-from-the-standard-tf-idf-275fa582e73d\n",
    "#https://scikit-learn.org/stable/modules/generated/sklearn.feature_extraction.text.TfidfVectorizer.html#sklearn.feature_extraction.text.TfidfVectorizer\n",
    "\n",
    "import math\n",
    "import pandas as pd\n",
    "from sklearn.feature_extraction.text import CountVectorizer\n",
    "import nltk\n",
    "from nltk.corpus import stopwords"
   ]
  },
  {
   "cell_type": "code",
   "execution_count": 2,
   "metadata": {},
   "outputs": [],
   "source": [
    "def computeTF(wordDict, doc):\n",
    "    \"\"\"\n",
    "        tf(t,d) = count of t in d / number of words in d\n",
    "\n",
    "    :param wordDict:\n",
    "    :param doc:\n",
    "    :return:\n",
    "    \"\"\"\n",
    "    tfDict = {}\n",
    "    corpusCount = len(doc)\n",
    "    for word, count in wordDict.items():\n",
    "        tfDict[word] = count/float(corpusCount)\n",
    "    return(tfDict)\n",
    "\n",
    "#analytics vidhya way\n",
    "def IDF(corpus, unique_words):\n",
    "    idf_dict={}\n",
    "    N=len(corpus)\n",
    "    for i in unique_words:\n",
    "        count=0\n",
    "        for sen in corpus:\n",
    "            if i in sen :\n",
    "                count=count+1\n",
    "            idf_dict[i]=(math.log((1+N)/(count+1)))+1\n",
    "    return idf_dict \n",
    "\n",
    "def computeIDF(docList):\n",
    "    \"\"\"\n",
    "        idf(t) = log(N/(df + 1))\n",
    "    :param docList:\n",
    "    :return:\n",
    "    \"\"\"\n",
    "    idfDict = {}\n",
    "    N = len(docList)\n",
    "\n",
    "    idfDict = dict.fromkeys(docList[0].keys(), 0)\n",
    "    for word, val in idfDict.items():\n",
    "        idfDict[word] = math.log10(N / (float(val) + 1))\n",
    "\n",
    "    return (idfDict)\n",
    "\n",
    "def computeTFIDF(tfBow, idfs):\n",
    "    \"\"\"\n",
    "    tf-idf(t, d) = tf(t, d) * log(N/(df + 1))\n",
    "    :param tfBow:\n",
    "    :param idfs:\n",
    "    :return:\n",
    "    \"\"\"\n",
    "    tfidf = {}\n",
    "    for word, val in tfBow.items():\n",
    "        tfidf[word] = val*idfs[word]\n",
    "    return(tfidf)\n",
    "\n",
    "def create_word_dict(total, sentence):\n",
    "    wordDict = dict.fromkeys(total, 0)\n",
    "    for word in sentence:\n",
    "        wordDict[word] += 1\n",
    "    return wordDict"
   ]
  },
  {
   "cell_type": "code",
   "execution_count": 3,
   "metadata": {},
   "outputs": [],
   "source": [
    "sentences = [\n",
    "    \"7-Day Mandatory Home Quarantine For All International Arrivals In India\",\n",
    "    \"Mandatory 7-day quarantine for all international passengers coming to India\",\n",
    "    \"Govt mandates all international arriving passengers to undergo home quarantine for 7 days\"]"
   ]
  },
  {
   "cell_type": "markdown",
   "metadata": {},
   "source": [
    "### convert sentences lower case"
   ]
  },
  {
   "cell_type": "code",
   "execution_count": 4,
   "metadata": {},
   "outputs": [
    {
     "data": {
      "text/plain": [
       "['7-day mandatory home quarantine quarantine for all international arrivals in india',\n",
       " 'mandatory 7-day quarantine for all international passengers coming to india',\n",
       " 'govt mandates all international arriving passengers to undergo home quarantine for 7 days']"
      ]
     },
     "execution_count": 4,
     "metadata": {},
     "output_type": "execute_result"
    }
   ],
   "source": [
    "for i in range(0,len(sentences)) :\n",
    "    sentences[i] = sentences[i].lower()\n",
    "sentences"
   ]
  },
  {
   "cell_type": "markdown",
   "metadata": {},
   "source": [
    "### remove stop words manually"
   ]
  },
  {
   "cell_type": "code",
   "execution_count": 5,
   "metadata": {},
   "outputs": [
    {
     "name": "stdout",
     "output_type": "stream",
     "text": [
      "['undergo', 'coming', 'passengers', 'india', 'mandatory', 'govt', 'days', 'international', '7-day', 'mandates', 'quarantine', '7', 'home', 'arrivals', 'arriving']\n"
     ]
    }
   ],
   "source": [
    "sentence1_list = nltk.word_tokenize(sentences[0])\n",
    "sentence1_list = [word for word in sentence1_list if word not in stopwords.words('english')]\n",
    "\n",
    "sentence2_list = nltk.word_tokenize(sentences[1])\n",
    "sentence2_list = [word for word in sentence2_list if word not in stopwords.words('english')]\n",
    "\n",
    "sentence3_list = nltk.word_tokenize(sentences[2])\n",
    "sentence3_list = [word for word in sentence3_list if word not in stopwords.words('english')]\n",
    "\n",
    "unique_words = set(sentence1_list).union(set(sentence2_list)).union(set(sentence3_list))\n",
    "filtered_words = [word for word in unique_words if word not in stopwords.words('english')]\n",
    "print(filtered_words)"
   ]
  },
  {
   "cell_type": "code",
   "execution_count": 6,
   "metadata": {},
   "outputs": [],
   "source": [
    "###Solve next ?\n",
    "\n",
    "#15 features ? --> 1. lemmatimzation -- 2. stemming"
   ]
  },
  {
   "cell_type": "markdown",
   "metadata": {},
   "source": [
    "## Calculate Bag of Words"
   ]
  },
  {
   "cell_type": "code",
   "execution_count": 7,
   "metadata": {},
   "outputs": [
    {
     "name": "stdout",
     "output_type": "stream",
     "text": [
      "{'undergo': 0, 'coming': 0, 'passengers': 0, 'india': 1, 'mandatory': 1, 'govt': 0, 'days': 0, 'international': 1, '7-day': 1, 'mandates': 0, 'quarantine': 2, '7': 0, 'home': 1, 'arrivals': 1, 'arriving': 0}\n",
      "\n",
      "{'undergo': 0, 'coming': 1, 'passengers': 1, 'india': 1, 'mandatory': 1, 'govt': 0, 'days': 0, 'international': 1, '7-day': 1, 'mandates': 0, 'quarantine': 1, '7': 0, 'home': 0, 'arrivals': 0, 'arriving': 0}\n",
      "\n",
      "{'undergo': 1, 'coming': 0, 'passengers': 1, 'india': 0, 'mandatory': 0, 'govt': 1, 'days': 1, 'international': 1, '7-day': 0, 'mandates': 1, 'quarantine': 1, '7': 1, 'home': 1, 'arrivals': 0, 'arriving': 1}\n"
     ]
    }
   ],
   "source": [
    "wordDict1 = create_word_dict(unique_words,sentence1_list)\n",
    "wordDict2 = create_word_dict(unique_words,sentence2_list)\n",
    "wordDict3 = create_word_dict(unique_words,sentence3_list)\n",
    "\n",
    "print (wordDict1)\n",
    "print()\n",
    "print (wordDict2)\n",
    "print()\n",
    "print (wordDict3)"
   ]
  },
  {
   "cell_type": "markdown",
   "metadata": {},
   "source": [
    "## Calculate term frequency"
   ]
  },
  {
   "cell_type": "code",
   "execution_count": 8,
   "metadata": {},
   "outputs": [
    {
     "name": "stdout",
     "output_type": "stream",
     "text": [
      "8\n"
     ]
    },
    {
     "data": {
      "text/plain": [
       "{'undergo': 0.0,\n",
       " 'coming': 0.0,\n",
       " 'passengers': 0.0,\n",
       " 'india': 0.125,\n",
       " 'mandatory': 0.125,\n",
       " 'govt': 0.0,\n",
       " 'days': 0.0,\n",
       " 'international': 0.125,\n",
       " '7-day': 0.125,\n",
       " 'mandates': 0.0,\n",
       " 'quarantine': 0.25,\n",
       " '7': 0.0,\n",
       " 'home': 0.125,\n",
       " 'arrivals': 0.125,\n",
       " 'arriving': 0.0}"
      ]
     },
     "execution_count": 8,
     "metadata": {},
     "output_type": "execute_result"
    }
   ],
   "source": [
    "tfFirst = computeTF(wordDict1, sentence1_list)\n",
    "print(len(sentence1_list))\n",
    "tfSecond = computeTF(wordDict2, sentence2_list)\n",
    "tfThird = computeTF(wordDict3, sentence3_list)\n",
    "tfFirst"
   ]
  },
  {
   "cell_type": "markdown",
   "metadata": {},
   "source": [
    "## Two different ways of IDF"
   ]
  },
  {
   "cell_type": "code",
   "execution_count": 9,
   "metadata": {},
   "outputs": [
    {
     "data": {
      "text/plain": [
       "{'undergo': 1.6931471805599454,\n",
       " 'coming': 1.6931471805599454,\n",
       " 'passengers': 1.2876820724517808,\n",
       " 'india': 1.2876820724517808,\n",
       " 'mandatory': 1.2876820724517808,\n",
       " 'govt': 1.6931471805599454,\n",
       " 'days': 1.6931471805599454,\n",
       " 'international': 1.0,\n",
       " '7-day': 1.2876820724517808,\n",
       " 'mandates': 1.6931471805599454,\n",
       " 'quarantine': 1.0,\n",
       " '7': 1.6931471805599454,\n",
       " 'home': 1.2876820724517808,\n",
       " 'arrivals': 1.6931471805599454,\n",
       " 'arriving': 1.6931471805599454}"
      ]
     },
     "execution_count": 9,
     "metadata": {},
     "output_type": "execute_result"
    }
   ],
   "source": [
    "IDF([sentence1_list,sentence2_list, sentence3_list],wordDict1.keys())"
   ]
  },
  {
   "cell_type": "code",
   "execution_count": 10,
   "metadata": {},
   "outputs": [
    {
     "data": {
      "text/plain": [
       "{'undergo': 0.47712125471966244,\n",
       " 'coming': 0.47712125471966244,\n",
       " 'passengers': 0.47712125471966244,\n",
       " 'india': 0.47712125471966244,\n",
       " 'mandatory': 0.47712125471966244,\n",
       " 'govt': 0.47712125471966244,\n",
       " 'days': 0.47712125471966244,\n",
       " 'international': 0.47712125471966244,\n",
       " '7-day': 0.47712125471966244,\n",
       " 'mandates': 0.47712125471966244,\n",
       " 'quarantine': 0.47712125471966244,\n",
       " '7': 0.47712125471966244,\n",
       " 'home': 0.47712125471966244,\n",
       " 'arrivals': 0.47712125471966244,\n",
       " 'arriving': 0.47712125471966244}"
      ]
     },
     "execution_count": 10,
     "metadata": {},
     "output_type": "execute_result"
    }
   ],
   "source": [
    "idfs = computeIDF([wordDict1, wordDict2, wordDict3])\n",
    "idfs"
   ]
  },
  {
   "cell_type": "code",
   "execution_count": 11,
   "metadata": {},
   "outputs": [
    {
     "name": "stdout",
     "output_type": "stream",
     "text": [
      "{'undergo': 0.0, 'coming': 0.0, 'passengers': 0.0, 'india': 0.059640156839957804, 'mandatory': 0.059640156839957804, 'govt': 0.0, 'days': 0.0, 'international': 0.059640156839957804, '7-day': 0.059640156839957804, 'mandates': 0.0, 'quarantine': 0.11928031367991561, '7': 0.0, 'home': 0.059640156839957804, 'arrivals': 0.059640156839957804, 'arriving': 0.0}\n",
      "\n",
      "{'undergo': 0.0, 'coming': 0.06816017924566606, 'passengers': 0.06816017924566606, 'india': 0.06816017924566606, 'mandatory': 0.06816017924566606, 'govt': 0.0, 'days': 0.0, 'international': 0.06816017924566606, '7-day': 0.06816017924566606, 'mandates': 0.0, 'quarantine': 0.06816017924566606, '7': 0.0, 'home': 0.0, 'arrivals': 0.0, 'arriving': 0.0}\n",
      "\n",
      "{'undergo': 0.047712125471966245, 'coming': 0.0, 'passengers': 0.047712125471966245, 'india': 0.0, 'mandatory': 0.0, 'govt': 0.047712125471966245, 'days': 0.047712125471966245, 'international': 0.047712125471966245, '7-day': 0.0, 'mandates': 0.047712125471966245, 'quarantine': 0.047712125471966245, '7': 0.047712125471966245, 'home': 0.047712125471966245, 'arrivals': 0.0, 'arriving': 0.047712125471966245}\n"
     ]
    }
   ],
   "source": [
    "#running our two sentences through the IDF:\n",
    "idfFirst = computeTFIDF(tfFirst, idfs)\n",
    "idfSecond = computeTFIDF(tfSecond, idfs)\n",
    "idfThird = computeTFIDF(tfThird, idfs)\n",
    "print (idfFirst)\n",
    "print()\n",
    "print (idfSecond)\n",
    "print()\n",
    "print (idfThird)"
   ]
  },
  {
   "cell_type": "markdown",
   "metadata": {},
   "source": [
    "## TF-IDF Matrix"
   ]
  },
  {
   "cell_type": "code",
   "execution_count": 12,
   "metadata": {},
   "outputs": [
    {
     "data": {
      "text/html": [
       "<div>\n",
       "<style scoped>\n",
       "    .dataframe tbody tr th:only-of-type {\n",
       "        vertical-align: middle;\n",
       "    }\n",
       "\n",
       "    .dataframe tbody tr th {\n",
       "        vertical-align: top;\n",
       "    }\n",
       "\n",
       "    .dataframe thead th {\n",
       "        text-align: right;\n",
       "    }\n",
       "</style>\n",
       "<table border=\"1\" class=\"dataframe\">\n",
       "  <thead>\n",
       "    <tr style=\"text-align: right;\">\n",
       "      <th></th>\n",
       "      <th>undergo</th>\n",
       "      <th>coming</th>\n",
       "      <th>passengers</th>\n",
       "      <th>india</th>\n",
       "      <th>mandatory</th>\n",
       "      <th>govt</th>\n",
       "      <th>days</th>\n",
       "      <th>international</th>\n",
       "      <th>7-day</th>\n",
       "      <th>mandates</th>\n",
       "      <th>quarantine</th>\n",
       "      <th>7</th>\n",
       "      <th>home</th>\n",
       "      <th>arrivals</th>\n",
       "      <th>arriving</th>\n",
       "    </tr>\n",
       "  </thead>\n",
       "  <tbody>\n",
       "    <tr>\n",
       "      <th>0</th>\n",
       "      <td>0.000000</td>\n",
       "      <td>0.00000</td>\n",
       "      <td>0.000000</td>\n",
       "      <td>0.05964</td>\n",
       "      <td>0.05964</td>\n",
       "      <td>0.000000</td>\n",
       "      <td>0.000000</td>\n",
       "      <td>0.059640</td>\n",
       "      <td>0.05964</td>\n",
       "      <td>0.000000</td>\n",
       "      <td>0.119280</td>\n",
       "      <td>0.000000</td>\n",
       "      <td>0.059640</td>\n",
       "      <td>0.05964</td>\n",
       "      <td>0.000000</td>\n",
       "    </tr>\n",
       "    <tr>\n",
       "      <th>1</th>\n",
       "      <td>0.000000</td>\n",
       "      <td>0.06816</td>\n",
       "      <td>0.068160</td>\n",
       "      <td>0.06816</td>\n",
       "      <td>0.06816</td>\n",
       "      <td>0.000000</td>\n",
       "      <td>0.000000</td>\n",
       "      <td>0.068160</td>\n",
       "      <td>0.06816</td>\n",
       "      <td>0.000000</td>\n",
       "      <td>0.068160</td>\n",
       "      <td>0.000000</td>\n",
       "      <td>0.000000</td>\n",
       "      <td>0.00000</td>\n",
       "      <td>0.000000</td>\n",
       "    </tr>\n",
       "    <tr>\n",
       "      <th>2</th>\n",
       "      <td>0.047712</td>\n",
       "      <td>0.00000</td>\n",
       "      <td>0.047712</td>\n",
       "      <td>0.00000</td>\n",
       "      <td>0.00000</td>\n",
       "      <td>0.047712</td>\n",
       "      <td>0.047712</td>\n",
       "      <td>0.047712</td>\n",
       "      <td>0.00000</td>\n",
       "      <td>0.047712</td>\n",
       "      <td>0.047712</td>\n",
       "      <td>0.047712</td>\n",
       "      <td>0.047712</td>\n",
       "      <td>0.00000</td>\n",
       "      <td>0.047712</td>\n",
       "    </tr>\n",
       "  </tbody>\n",
       "</table>\n",
       "</div>"
      ],
      "text/plain": [
       "    undergo   coming  passengers    india  mandatory      govt      days  \\\n",
       "0  0.000000  0.00000    0.000000  0.05964    0.05964  0.000000  0.000000   \n",
       "1  0.000000  0.06816    0.068160  0.06816    0.06816  0.000000  0.000000   \n",
       "2  0.047712  0.00000    0.047712  0.00000    0.00000  0.047712  0.047712   \n",
       "\n",
       "   international    7-day  mandates  quarantine         7      home  arrivals  \\\n",
       "0       0.059640  0.05964  0.000000    0.119280  0.000000  0.059640   0.05964   \n",
       "1       0.068160  0.06816  0.000000    0.068160  0.000000  0.000000   0.00000   \n",
       "2       0.047712  0.00000  0.047712    0.047712  0.047712  0.047712   0.00000   \n",
       "\n",
       "   arriving  \n",
       "0  0.000000  \n",
       "1  0.000000  \n",
       "2  0.047712  "
      ]
     },
     "execution_count": 12,
     "metadata": {},
     "output_type": "execute_result"
    }
   ],
   "source": [
    "#putting it in a dataframe\n",
    "idf = pd.DataFrame([idfFirst, idfSecond, idfThird])\n",
    "idf.head()"
   ]
  },
  {
   "cell_type": "markdown",
   "metadata": {},
   "source": [
    "## Let's Use Libraries"
   ]
  },
  {
   "cell_type": "code",
   "execution_count": 13,
   "metadata": {},
   "outputs": [
    {
     "data": {
      "text/html": [
       "<div>\n",
       "<style scoped>\n",
       "    .dataframe tbody tr th:only-of-type {\n",
       "        vertical-align: middle;\n",
       "    }\n",
       "\n",
       "    .dataframe tbody tr th {\n",
       "        vertical-align: top;\n",
       "    }\n",
       "\n",
       "    .dataframe thead th {\n",
       "        text-align: right;\n",
       "    }\n",
       "</style>\n",
       "<table border=\"1\" class=\"dataframe\">\n",
       "  <thead>\n",
       "    <tr style=\"text-align: right;\">\n",
       "      <th></th>\n",
       "      <th>arrivals</th>\n",
       "      <th>coming</th>\n",
       "      <th>day</th>\n",
       "      <th>home</th>\n",
       "      <th>india</th>\n",
       "      <th>international</th>\n",
       "      <th>mandatory</th>\n",
       "      <th>passengers</th>\n",
       "      <th>quarantine</th>\n",
       "    </tr>\n",
       "  </thead>\n",
       "  <tbody>\n",
       "    <tr>\n",
       "      <th>stmt1</th>\n",
       "      <td>0.469778</td>\n",
       "      <td>0.000000</td>\n",
       "      <td>0.334251</td>\n",
       "      <td>0.469778</td>\n",
       "      <td>0.334251</td>\n",
       "      <td>0.334251</td>\n",
       "      <td>0.334251</td>\n",
       "      <td>0.000000</td>\n",
       "      <td>0.334251</td>\n",
       "    </tr>\n",
       "    <tr>\n",
       "      <th>stmt2</th>\n",
       "      <td>0.000000</td>\n",
       "      <td>0.469778</td>\n",
       "      <td>0.334251</td>\n",
       "      <td>0.000000</td>\n",
       "      <td>0.334251</td>\n",
       "      <td>0.334251</td>\n",
       "      <td>0.334251</td>\n",
       "      <td>0.469778</td>\n",
       "      <td>0.334251</td>\n",
       "    </tr>\n",
       "  </tbody>\n",
       "</table>\n",
       "</div>"
      ],
      "text/plain": [
       "       arrivals    coming       day      home     india  international  \\\n",
       "stmt1  0.469778  0.000000  0.334251  0.469778  0.334251       0.334251   \n",
       "stmt2  0.000000  0.469778  0.334251  0.000000  0.334251       0.334251   \n",
       "\n",
       "       mandatory  passengers  quarantine  \n",
       "stmt1   0.334251    0.000000    0.334251  \n",
       "stmt2   0.334251    0.469778    0.334251  "
      ]
     },
     "execution_count": 13,
     "metadata": {},
     "output_type": "execute_result"
    }
   ],
   "source": [
    "from sklearn.feature_extraction.text import TfidfVectorizer\n",
    "import pandas as pd\n",
    "\n",
    "corpus = [\n",
    "    \"7-Day Mandatory Home Quarantine For All International Arrivals In India\",\n",
    "    \"Mandatory 7-day quarantine for all international passengers coming to India\"]\n",
    "\n",
    "vectorizer = TfidfVectorizer(stop_words=stopwords.words('english'))  #https://scikit-learn.org/stable/modules/generated/sklearn.feature_extraction.text.TfidfVectorizer.html#sklearn.feature_extraction.text.TfidfVectorizer\n",
    "X = vectorizer.fit_transform(corpus)\n",
    "columns = vectorizer.get_feature_names_out()\n",
    "\n",
    "df = pd.DataFrame(X.toarray(),columns=columns,index=['stmt1','stmt2'])\n",
    "df"
   ]
  },
  {
   "cell_type": "code",
   "execution_count": 14,
   "metadata": {},
   "outputs": [
    {
     "data": {
      "text/html": [
       "<div>\n",
       "<style scoped>\n",
       "    .dataframe tbody tr th:only-of-type {\n",
       "        vertical-align: middle;\n",
       "    }\n",
       "\n",
       "    .dataframe tbody tr th {\n",
       "        vertical-align: top;\n",
       "    }\n",
       "\n",
       "    .dataframe thead th {\n",
       "        text-align: right;\n",
       "    }\n",
       "</style>\n",
       "<table border=\"1\" class=\"dataframe\">\n",
       "  <thead>\n",
       "    <tr style=\"text-align: right;\">\n",
       "      <th></th>\n",
       "      <th>arrivals</th>\n",
       "      <th>arriving</th>\n",
       "      <th>coming</th>\n",
       "      <th>day</th>\n",
       "      <th>days</th>\n",
       "      <th>govt</th>\n",
       "      <th>home</th>\n",
       "      <th>india</th>\n",
       "      <th>international</th>\n",
       "      <th>mandates</th>\n",
       "      <th>mandatory</th>\n",
       "      <th>passengers</th>\n",
       "      <th>quarantine</th>\n",
       "      <th>undergo</th>\n",
       "    </tr>\n",
       "  </thead>\n",
       "  <tbody>\n",
       "    <tr>\n",
       "      <th>stmt1</th>\n",
       "      <td>1.0</td>\n",
       "      <td>0.0</td>\n",
       "      <td>0.0</td>\n",
       "      <td>1.0</td>\n",
       "      <td>0.0</td>\n",
       "      <td>0.0</td>\n",
       "      <td>1.0</td>\n",
       "      <td>1.0</td>\n",
       "      <td>1.0</td>\n",
       "      <td>0.0</td>\n",
       "      <td>1.0</td>\n",
       "      <td>0.0</td>\n",
       "      <td>1.0</td>\n",
       "      <td>0.0</td>\n",
       "    </tr>\n",
       "    <tr>\n",
       "      <th>stmt2</th>\n",
       "      <td>0.0</td>\n",
       "      <td>0.0</td>\n",
       "      <td>1.0</td>\n",
       "      <td>1.0</td>\n",
       "      <td>0.0</td>\n",
       "      <td>0.0</td>\n",
       "      <td>0.0</td>\n",
       "      <td>1.0</td>\n",
       "      <td>1.0</td>\n",
       "      <td>0.0</td>\n",
       "      <td>1.0</td>\n",
       "      <td>1.0</td>\n",
       "      <td>1.0</td>\n",
       "      <td>0.0</td>\n",
       "    </tr>\n",
       "    <tr>\n",
       "      <th>stmt3</th>\n",
       "      <td>0.0</td>\n",
       "      <td>1.0</td>\n",
       "      <td>0.0</td>\n",
       "      <td>0.0</td>\n",
       "      <td>1.0</td>\n",
       "      <td>1.0</td>\n",
       "      <td>1.0</td>\n",
       "      <td>0.0</td>\n",
       "      <td>1.0</td>\n",
       "      <td>1.0</td>\n",
       "      <td>0.0</td>\n",
       "      <td>1.0</td>\n",
       "      <td>1.0</td>\n",
       "      <td>1.0</td>\n",
       "    </tr>\n",
       "  </tbody>\n",
       "</table>\n",
       "</div>"
      ],
      "text/plain": [
       "       arrivals  arriving  coming  day  days  govt  home  india  \\\n",
       "stmt1       1.0       0.0     0.0  1.0   0.0   0.0   1.0    1.0   \n",
       "stmt2       0.0       0.0     1.0  1.0   0.0   0.0   0.0    1.0   \n",
       "stmt3       0.0       1.0     0.0  0.0   1.0   1.0   1.0    0.0   \n",
       "\n",
       "       international  mandates  mandatory  passengers  quarantine  undergo  \n",
       "stmt1            1.0       0.0        1.0         0.0         1.0      0.0  \n",
       "stmt2            1.0       0.0        1.0         1.0         1.0      0.0  \n",
       "stmt3            1.0       1.0        0.0         1.0         1.0      1.0  "
      ]
     },
     "execution_count": 14,
     "metadata": {},
     "output_type": "execute_result"
    }
   ],
   "source": [
    "corpus = [\n",
    "    \"7-Day Mandatory Home Quarantine For All International Arrivals In India\",\n",
    "    \"Mandatory 7-day quarantine for all international passengers coming to India\",\n",
    "    \"Govt mandates all international arriving passengers to undergo home quarantine for 7 days\"]\n",
    "\n",
    "vectorizer = TfidfVectorizer(stop_words=stopwords.words('english'), norm=None, smooth_idf=False, use_idf=False)  #https://scikit-learn.org/stable/modules/generated/sklearn.feature_extraction.text.TfidfVectorizer.html#sklearn.feature_extraction.text.TfidfVectorizer\n",
    "X = vectorizer.fit_transform(corpus)\n",
    "columns = vectorizer.get_feature_names_out()\n",
    "\n",
    "df = pd.DataFrame(X.toarray(),columns=columns,index=['stmt1','stmt2','stmt3'])\n",
    "df"
   ]
  },
  {
   "cell_type": "markdown",
   "metadata": {},
   "source": [
    "# Understand each parameter of TfidfVectorizer"
   ]
  },
  {
   "cell_type": "code",
   "execution_count": 15,
   "metadata": {},
   "outputs": [
    {
     "data": {
      "text/html": [
       "<div>\n",
       "<style scoped>\n",
       "    .dataframe tbody tr th:only-of-type {\n",
       "        vertical-align: middle;\n",
       "    }\n",
       "\n",
       "    .dataframe tbody tr th {\n",
       "        vertical-align: top;\n",
       "    }\n",
       "\n",
       "    .dataframe thead th {\n",
       "        text-align: right;\n",
       "    }\n",
       "</style>\n",
       "<table border=\"1\" class=\"dataframe\">\n",
       "  <thead>\n",
       "    <tr style=\"text-align: right;\">\n",
       "      <th></th>\n",
       "      <th>arrivals</th>\n",
       "      <th>arriving</th>\n",
       "      <th>coming</th>\n",
       "      <th>day</th>\n",
       "      <th>days</th>\n",
       "      <th>govt</th>\n",
       "      <th>home</th>\n",
       "      <th>india</th>\n",
       "      <th>international</th>\n",
       "      <th>mandates</th>\n",
       "      <th>mandatory</th>\n",
       "      <th>passengers</th>\n",
       "      <th>quarantine</th>\n",
       "      <th>undergo</th>\n",
       "    </tr>\n",
       "  </thead>\n",
       "  <tbody>\n",
       "    <tr>\n",
       "      <th>stmt1</th>\n",
       "      <td>0.554856</td>\n",
       "      <td>0.000000</td>\n",
       "      <td>0.000000</td>\n",
       "      <td>0.371594</td>\n",
       "      <td>0.000000</td>\n",
       "      <td>0.000000</td>\n",
       "      <td>0.371594</td>\n",
       "      <td>0.371594</td>\n",
       "      <td>0.264392</td>\n",
       "      <td>0.000000</td>\n",
       "      <td>0.371594</td>\n",
       "      <td>0.000000</td>\n",
       "      <td>0.264392</td>\n",
       "      <td>0.000000</td>\n",
       "    </tr>\n",
       "    <tr>\n",
       "      <th>stmt2</th>\n",
       "      <td>0.000000</td>\n",
       "      <td>0.000000</td>\n",
       "      <td>0.554856</td>\n",
       "      <td>0.371594</td>\n",
       "      <td>0.000000</td>\n",
       "      <td>0.000000</td>\n",
       "      <td>0.000000</td>\n",
       "      <td>0.371594</td>\n",
       "      <td>0.264392</td>\n",
       "      <td>0.000000</td>\n",
       "      <td>0.371594</td>\n",
       "      <td>0.371594</td>\n",
       "      <td>0.264392</td>\n",
       "      <td>0.000000</td>\n",
       "    </tr>\n",
       "    <tr>\n",
       "      <th>stmt3</th>\n",
       "      <td>0.000000</td>\n",
       "      <td>0.396802</td>\n",
       "      <td>0.000000</td>\n",
       "      <td>0.000000</td>\n",
       "      <td>0.396802</td>\n",
       "      <td>0.396802</td>\n",
       "      <td>0.265743</td>\n",
       "      <td>0.000000</td>\n",
       "      <td>0.189078</td>\n",
       "      <td>0.396802</td>\n",
       "      <td>0.000000</td>\n",
       "      <td>0.265743</td>\n",
       "      <td>0.189078</td>\n",
       "      <td>0.396802</td>\n",
       "    </tr>\n",
       "  </tbody>\n",
       "</table>\n",
       "</div>"
      ],
      "text/plain": [
       "       arrivals  arriving    coming       day      days      govt      home  \\\n",
       "stmt1  0.554856  0.000000  0.000000  0.371594  0.000000  0.000000  0.371594   \n",
       "stmt2  0.000000  0.000000  0.554856  0.371594  0.000000  0.000000  0.000000   \n",
       "stmt3  0.000000  0.396802  0.000000  0.000000  0.396802  0.396802  0.265743   \n",
       "\n",
       "          india  international  mandates  mandatory  passengers  quarantine  \\\n",
       "stmt1  0.371594       0.264392  0.000000   0.371594    0.000000    0.264392   \n",
       "stmt2  0.371594       0.264392  0.000000   0.371594    0.371594    0.264392   \n",
       "stmt3  0.000000       0.189078  0.396802   0.000000    0.265743    0.189078   \n",
       "\n",
       "        undergo  \n",
       "stmt1  0.000000  \n",
       "stmt2  0.000000  \n",
       "stmt3  0.396802  "
      ]
     },
     "execution_count": 15,
     "metadata": {},
     "output_type": "execute_result"
    }
   ],
   "source": [
    "vectorizer = TfidfVectorizer(stop_words=stopwords.words('english'), smooth_idf=False)  #https://scikit-learn.org/stable/modules/generated/sklearn.feature_extraction.text.TfidfVectorizer.html#sklearn.feature_extraction.text.TfidfVectorizer\n",
    "X = vectorizer.fit_transform(corpus)\n",
    "columns = vectorizer.get_feature_names_out()\n",
    "\n",
    "df = pd.DataFrame(X.toarray(),columns=columns,index=['stmt1','stmt2','stmt3'])\n",
    "df"
   ]
  },
  {
   "cell_type": "code",
   "execution_count": 16,
   "metadata": {},
   "outputs": [],
   "source": [
    "my_stop_words = stopwords.words('english')"
   ]
  },
  {
   "cell_type": "code",
   "execution_count": 17,
   "metadata": {},
   "outputs": [],
   "source": [
    "my_stop_words.append(\"he\")"
   ]
  },
  {
   "cell_type": "code",
   "execution_count": 18,
   "metadata": {},
   "outputs": [
    {
     "data": {
      "text/plain": [
       "180"
      ]
     },
     "execution_count": 18,
     "metadata": {},
     "output_type": "execute_result"
    }
   ],
   "source": [
    "len(my_stop_words)"
   ]
  },
  {
   "cell_type": "code",
   "execution_count": null,
   "metadata": {},
   "outputs": [],
   "source": []
  }
 ],
 "metadata": {
  "kernelspec": {
   "display_name": "Python 3",
   "language": "python",
   "name": "python3"
  },
  "language_info": {
   "codemirror_mode": {
    "name": "ipython",
    "version": 3
   },
   "file_extension": ".py",
   "mimetype": "text/x-python",
   "name": "python",
   "nbconvert_exporter": "python",
   "pygments_lexer": "ipython3",
   "version": "3.8.5"
  }
 },
 "nbformat": 4,
 "nbformat_minor": 4
}
