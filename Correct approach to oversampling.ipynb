{
 "cells": [
  {
   "cell_type": "code",
   "execution_count": 1,
   "id": "a4cc82b8",
   "metadata": {},
   "outputs": [],
   "source": [
    "# Ref :\n",
    "# https://beckernick.github.io/oversampling-modeling/\n",
    "# https://machinelearningmastery.com/standard-machine-learning-datasets-for-imbalanced-classification/\n",
    "# https://towardsdatascience.com/methods-for-dealing-with-imbalanced-data-5b761be45a18"
   ]
  },
  {
   "cell_type": "code",
   "execution_count": 2,
   "id": "ecee830f",
   "metadata": {},
   "outputs": [],
   "source": [
    "import numpy as np\n",
    "import pandas as pd\n",
    "from sklearn.ensemble import RandomForestClassifier\n",
    "from sklearn.tree import DecisionTreeClassifier  \n",
    "from sklearn.model_selection import train_test_split\n",
    "from sklearn.metrics import recall_score\n",
    "from sklearn.metrics import f1_score\n",
    "from imblearn.over_sampling import SMOTE\n",
    "\n",
    "random_seed = 100"
   ]
  },
  {
   "cell_type": "markdown",
   "id": "5690a157",
   "metadata": {},
   "source": [
    "### Read Data"
   ]
  },
  {
   "cell_type": "code",
   "execution_count": 3,
   "id": "1a6612f6",
   "metadata": {},
   "outputs": [
    {
     "data": {
      "text/html": [
       "<div>\n",
       "<style scoped>\n",
       "    .dataframe tbody tr th:only-of-type {\n",
       "        vertical-align: middle;\n",
       "    }\n",
       "\n",
       "    .dataframe tbody tr th {\n",
       "        vertical-align: top;\n",
       "    }\n",
       "\n",
       "    .dataframe thead th {\n",
       "        text-align: right;\n",
       "    }\n",
       "</style>\n",
       "<table border=\"1\" class=\"dataframe\">\n",
       "  <thead>\n",
       "    <tr style=\"text-align: right;\">\n",
       "      <th></th>\n",
       "      <th>col_0</th>\n",
       "      <th>col_1</th>\n",
       "      <th>col_2</th>\n",
       "      <th>col_3</th>\n",
       "      <th>col_4</th>\n",
       "      <th>col_5</th>\n",
       "      <th>col_6</th>\n",
       "      <th>col_7</th>\n",
       "      <th>col_8</th>\n",
       "      <th>col_9</th>\n",
       "      <th>...</th>\n",
       "      <th>col_21</th>\n",
       "      <th>col_22</th>\n",
       "      <th>col_23</th>\n",
       "      <th>col_24</th>\n",
       "      <th>col_25</th>\n",
       "      <th>col_26</th>\n",
       "      <th>col_27</th>\n",
       "      <th>col_28</th>\n",
       "      <th>col_29</th>\n",
       "      <th>col_30</th>\n",
       "    </tr>\n",
       "  </thead>\n",
       "  <tbody>\n",
       "    <tr>\n",
       "      <th>15086</th>\n",
       "      <td>26433.0</td>\n",
       "      <td>-0.417926</td>\n",
       "      <td>1.043044</td>\n",
       "      <td>1.567393</td>\n",
       "      <td>-0.029926</td>\n",
       "      <td>-0.061170</td>\n",
       "      <td>-0.902928</td>\n",
       "      <td>0.702650</td>\n",
       "      <td>-0.068392</td>\n",
       "      <td>-0.401435</td>\n",
       "      <td>...</td>\n",
       "      <td>-0.226879</td>\n",
       "      <td>-0.591314</td>\n",
       "      <td>-0.021278</td>\n",
       "      <td>0.367480</td>\n",
       "      <td>-0.192481</td>\n",
       "      <td>0.071021</td>\n",
       "      <td>0.265376</td>\n",
       "      <td>0.121238</td>\n",
       "      <td>2.67</td>\n",
       "      <td>0</td>\n",
       "    </tr>\n",
       "    <tr>\n",
       "      <th>113323</th>\n",
       "      <td>73024.0</td>\n",
       "      <td>1.300105</td>\n",
       "      <td>-0.849455</td>\n",
       "      <td>0.833857</td>\n",
       "      <td>-0.793458</td>\n",
       "      <td>-1.375184</td>\n",
       "      <td>-0.221304</td>\n",
       "      <td>-1.139217</td>\n",
       "      <td>0.131260</td>\n",
       "      <td>-0.546319</td>\n",
       "      <td>...</td>\n",
       "      <td>0.421564</td>\n",
       "      <td>1.044460</td>\n",
       "      <td>-0.172465</td>\n",
       "      <td>0.043947</td>\n",
       "      <td>0.410095</td>\n",
       "      <td>-0.047777</td>\n",
       "      <td>0.023995</td>\n",
       "      <td>0.016019</td>\n",
       "      <td>39.99</td>\n",
       "      <td>0</td>\n",
       "    </tr>\n",
       "    <tr>\n",
       "      <th>55588</th>\n",
       "      <td>47021.0</td>\n",
       "      <td>1.286835</td>\n",
       "      <td>0.410463</td>\n",
       "      <td>-0.033514</td>\n",
       "      <td>0.918373</td>\n",
       "      <td>0.241875</td>\n",
       "      <td>-0.461275</td>\n",
       "      <td>0.303026</td>\n",
       "      <td>-0.258748</td>\n",
       "      <td>-0.160592</td>\n",
       "      <td>...</td>\n",
       "      <td>-0.006903</td>\n",
       "      <td>0.076803</td>\n",
       "      <td>-0.226950</td>\n",
       "      <td>-0.419230</td>\n",
       "      <td>0.840486</td>\n",
       "      <td>-0.281174</td>\n",
       "      <td>0.019672</td>\n",
       "      <td>0.016127</td>\n",
       "      <td>13.31</td>\n",
       "      <td>0</td>\n",
       "    </tr>\n",
       "    <tr>\n",
       "      <th>176116</th>\n",
       "      <td>122631.0</td>\n",
       "      <td>1.958079</td>\n",
       "      <td>-0.042710</td>\n",
       "      <td>-0.527311</td>\n",
       "      <td>1.384067</td>\n",
       "      <td>-0.337813</td>\n",
       "      <td>-0.688529</td>\n",
       "      <td>-0.120918</td>\n",
       "      <td>-0.060492</td>\n",
       "      <td>0.861065</td>\n",
       "      <td>...</td>\n",
       "      <td>-0.465249</td>\n",
       "      <td>-1.273636</td>\n",
       "      <td>0.494686</td>\n",
       "      <td>-0.150920</td>\n",
       "      <td>-0.459013</td>\n",
       "      <td>-1.153382</td>\n",
       "      <td>0.031874</td>\n",
       "      <td>-0.032433</td>\n",
       "      <td>6.90</td>\n",
       "      <td>0</td>\n",
       "    </tr>\n",
       "    <tr>\n",
       "      <th>180468</th>\n",
       "      <td>124554.0</td>\n",
       "      <td>1.935659</td>\n",
       "      <td>-0.868297</td>\n",
       "      <td>-0.816730</td>\n",
       "      <td>-1.118171</td>\n",
       "      <td>-0.109123</td>\n",
       "      <td>1.056691</td>\n",
       "      <td>-1.052618</td>\n",
       "      <td>0.514812</td>\n",
       "      <td>1.512231</td>\n",
       "      <td>...</td>\n",
       "      <td>0.251211</td>\n",
       "      <td>0.942057</td>\n",
       "      <td>0.194124</td>\n",
       "      <td>-1.590342</td>\n",
       "      <td>-0.535108</td>\n",
       "      <td>0.821741</td>\n",
       "      <td>0.001390</td>\n",
       "      <td>-0.082935</td>\n",
       "      <td>0.01</td>\n",
       "      <td>0</td>\n",
       "    </tr>\n",
       "    <tr>\n",
       "      <th>146642</th>\n",
       "      <td>87794.0</td>\n",
       "      <td>-1.801135</td>\n",
       "      <td>1.836773</td>\n",
       "      <td>-0.294232</td>\n",
       "      <td>-3.012458</td>\n",
       "      <td>1.028076</td>\n",
       "      <td>-0.741334</td>\n",
       "      <td>1.327397</td>\n",
       "      <td>-0.225957</td>\n",
       "      <td>0.955492</td>\n",
       "      <td>...</td>\n",
       "      <td>-0.459982</td>\n",
       "      <td>-0.879859</td>\n",
       "      <td>-0.154755</td>\n",
       "      <td>0.105348</td>\n",
       "      <td>0.213180</td>\n",
       "      <td>0.311494</td>\n",
       "      <td>-0.080491</td>\n",
       "      <td>-0.096973</td>\n",
       "      <td>1.00</td>\n",
       "      <td>0</td>\n",
       "    </tr>\n",
       "    <tr>\n",
       "      <th>58000</th>\n",
       "      <td>48184.0</td>\n",
       "      <td>-1.282103</td>\n",
       "      <td>0.156339</td>\n",
       "      <td>1.352965</td>\n",
       "      <td>0.255524</td>\n",
       "      <td>-2.362790</td>\n",
       "      <td>1.198594</td>\n",
       "      <td>0.887357</td>\n",
       "      <td>0.392508</td>\n",
       "      <td>-1.666066</td>\n",
       "      <td>...</td>\n",
       "      <td>-0.128962</td>\n",
       "      <td>0.117074</td>\n",
       "      <td>0.032143</td>\n",
       "      <td>-0.020794</td>\n",
       "      <td>0.447928</td>\n",
       "      <td>-0.084783</td>\n",
       "      <td>0.024210</td>\n",
       "      <td>-0.087214</td>\n",
       "      <td>360.00</td>\n",
       "      <td>0</td>\n",
       "    </tr>\n",
       "    <tr>\n",
       "      <th>131132</th>\n",
       "      <td>79506.0</td>\n",
       "      <td>1.282396</td>\n",
       "      <td>-0.908166</td>\n",
       "      <td>0.815159</td>\n",
       "      <td>-0.782122</td>\n",
       "      <td>-1.420962</td>\n",
       "      <td>-0.227897</td>\n",
       "      <td>-1.155307</td>\n",
       "      <td>0.152406</td>\n",
       "      <td>-0.484788</td>\n",
       "      <td>...</td>\n",
       "      <td>0.422271</td>\n",
       "      <td>1.005850</td>\n",
       "      <td>-0.175444</td>\n",
       "      <td>0.033091</td>\n",
       "      <td>0.392799</td>\n",
       "      <td>-0.047353</td>\n",
       "      <td>0.019591</td>\n",
       "      <td>0.016700</td>\n",
       "      <td>49.00</td>\n",
       "      <td>0</td>\n",
       "    </tr>\n",
       "    <tr>\n",
       "      <th>104386</th>\n",
       "      <td>69044.0</td>\n",
       "      <td>1.238181</td>\n",
       "      <td>0.328666</td>\n",
       "      <td>0.196792</td>\n",
       "      <td>0.494349</td>\n",
       "      <td>-0.110838</td>\n",
       "      <td>-0.546887</td>\n",
       "      <td>0.006199</td>\n",
       "      <td>-0.060493</td>\n",
       "      <td>-0.271630</td>\n",
       "      <td>...</td>\n",
       "      <td>-0.253041</td>\n",
       "      <td>-0.742232</td>\n",
       "      <td>0.070734</td>\n",
       "      <td>-0.030328</td>\n",
       "      <td>0.245782</td>\n",
       "      <td>0.096219</td>\n",
       "      <td>-0.024326</td>\n",
       "      <td>0.018129</td>\n",
       "      <td>1.29</td>\n",
       "      <td>0</td>\n",
       "    </tr>\n",
       "    <tr>\n",
       "      <th>143216</th>\n",
       "      <td>85198.0</td>\n",
       "      <td>-0.965645</td>\n",
       "      <td>0.944010</td>\n",
       "      <td>2.235519</td>\n",
       "      <td>0.758746</td>\n",
       "      <td>0.104065</td>\n",
       "      <td>0.072509</td>\n",
       "      <td>0.387714</td>\n",
       "      <td>-0.151986</td>\n",
       "      <td>-0.033736</td>\n",
       "      <td>...</td>\n",
       "      <td>-0.077646</td>\n",
       "      <td>0.148241</td>\n",
       "      <td>-0.032525</td>\n",
       "      <td>0.079586</td>\n",
       "      <td>0.225299</td>\n",
       "      <td>-0.386201</td>\n",
       "      <td>-0.200464</td>\n",
       "      <td>-0.199822</td>\n",
       "      <td>0.99</td>\n",
       "      <td>0</td>\n",
       "    </tr>\n",
       "  </tbody>\n",
       "</table>\n",
       "<p>10 rows × 31 columns</p>\n",
       "</div>"
      ],
      "text/plain": [
       "           col_0     col_1     col_2     col_3     col_4     col_5     col_6  \\\n",
       "15086    26433.0 -0.417926  1.043044  1.567393 -0.029926 -0.061170 -0.902928   \n",
       "113323   73024.0  1.300105 -0.849455  0.833857 -0.793458 -1.375184 -0.221304   \n",
       "55588    47021.0  1.286835  0.410463 -0.033514  0.918373  0.241875 -0.461275   \n",
       "176116  122631.0  1.958079 -0.042710 -0.527311  1.384067 -0.337813 -0.688529   \n",
       "180468  124554.0  1.935659 -0.868297 -0.816730 -1.118171 -0.109123  1.056691   \n",
       "146642   87794.0 -1.801135  1.836773 -0.294232 -3.012458  1.028076 -0.741334   \n",
       "58000    48184.0 -1.282103  0.156339  1.352965  0.255524 -2.362790  1.198594   \n",
       "131132   79506.0  1.282396 -0.908166  0.815159 -0.782122 -1.420962 -0.227897   \n",
       "104386   69044.0  1.238181  0.328666  0.196792  0.494349 -0.110838 -0.546887   \n",
       "143216   85198.0 -0.965645  0.944010  2.235519  0.758746  0.104065  0.072509   \n",
       "\n",
       "           col_7     col_8     col_9  ...    col_21    col_22    col_23  \\\n",
       "15086   0.702650 -0.068392 -0.401435  ... -0.226879 -0.591314 -0.021278   \n",
       "113323 -1.139217  0.131260 -0.546319  ...  0.421564  1.044460 -0.172465   \n",
       "55588   0.303026 -0.258748 -0.160592  ... -0.006903  0.076803 -0.226950   \n",
       "176116 -0.120918 -0.060492  0.861065  ... -0.465249 -1.273636  0.494686   \n",
       "180468 -1.052618  0.514812  1.512231  ...  0.251211  0.942057  0.194124   \n",
       "146642  1.327397 -0.225957  0.955492  ... -0.459982 -0.879859 -0.154755   \n",
       "58000   0.887357  0.392508 -1.666066  ... -0.128962  0.117074  0.032143   \n",
       "131132 -1.155307  0.152406 -0.484788  ...  0.422271  1.005850 -0.175444   \n",
       "104386  0.006199 -0.060493 -0.271630  ... -0.253041 -0.742232  0.070734   \n",
       "143216  0.387714 -0.151986 -0.033736  ... -0.077646  0.148241 -0.032525   \n",
       "\n",
       "          col_24    col_25    col_26    col_27    col_28  col_29  col_30  \n",
       "15086   0.367480 -0.192481  0.071021  0.265376  0.121238    2.67       0  \n",
       "113323  0.043947  0.410095 -0.047777  0.023995  0.016019   39.99       0  \n",
       "55588  -0.419230  0.840486 -0.281174  0.019672  0.016127   13.31       0  \n",
       "176116 -0.150920 -0.459013 -1.153382  0.031874 -0.032433    6.90       0  \n",
       "180468 -1.590342 -0.535108  0.821741  0.001390 -0.082935    0.01       0  \n",
       "146642  0.105348  0.213180  0.311494 -0.080491 -0.096973    1.00       0  \n",
       "58000  -0.020794  0.447928 -0.084783  0.024210 -0.087214  360.00       0  \n",
       "131132  0.033091  0.392799 -0.047353  0.019591  0.016700   49.00       0  \n",
       "104386 -0.030328  0.245782  0.096219 -0.024326  0.018129    1.29       0  \n",
       "143216  0.079586  0.225299 -0.386201 -0.200464 -0.199822    0.99       0  \n",
       "\n",
       "[10 rows x 31 columns]"
      ]
     },
     "execution_count": 3,
     "metadata": {},
     "output_type": "execute_result"
    }
   ],
   "source": [
    "df = pd.read_csv('creditcard.csv', header=None)\n",
    "df.columns = ['col_' + str(col) for col in df.columns]\n",
    "df.sample(10)"
   ]
  },
  {
   "cell_type": "markdown",
   "id": "ed6ad80a",
   "metadata": {},
   "source": [
    "## check imblanace of target class"
   ]
  },
  {
   "cell_type": "code",
   "execution_count": 4,
   "id": "8767ca80",
   "metadata": {},
   "outputs": [
    {
     "data": {
      "text/plain": [
       "0    284315\n",
       "1       492\n",
       "Name: col_30, dtype: int64"
      ]
     },
     "execution_count": 4,
     "metadata": {},
     "output_type": "execute_result"
    }
   ],
   "source": [
    "df_features = df.drop(['col_30'], axis=1)\n",
    "df_target = df['col_30']\n",
    "df_target.value_counts()"
   ]
  },
  {
   "cell_type": "markdown",
   "id": "c048fa74",
   "metadata": {},
   "source": [
    "## Keep 10% of data aside to validate which technique would really work ?"
   ]
  },
  {
   "cell_type": "code",
   "execution_count": 5,
   "id": "9a101ba0",
   "metadata": {},
   "outputs": [],
   "source": [
    "x, x_real_world, y, y_real_world = train_test_split(df_features, df_target, test_size = .1, random_state=random_seed)"
   ]
  },
  {
   "cell_type": "markdown",
   "id": "9c7e9ed3",
   "metadata": {},
   "source": [
    "# SMOTE Before Split"
   ]
  },
  {
   "cell_type": "code",
   "execution_count": 6,
   "id": "8d2b77e5",
   "metadata": {},
   "outputs": [
    {
     "name": "stdout",
     "output_type": "stream",
     "text": [
      "\n",
      "Counts before oversampling : \n",
      " 0    255881\n",
      "1       445\n",
      "Name: col_30, dtype: int64\n",
      "\n",
      "Counts after oversampling : \n",
      " 0    255881\n",
      "1    255881\n",
      "Name: col_30, dtype: int64\n"
     ]
    }
   ],
   "source": [
    "sm = SMOTE(random_state=random_seed)\n",
    "x_res, y_res = sm.fit_resample(x, y)\n",
    "print(\"\\nCounts before oversampling : \\n\", y.value_counts())\n",
    "print(\"\\nCounts after oversampling : \\n\", y_res.value_counts())\n",
    "\n",
    "df_oversampled = pd.concat([x_res,y_res], axis=1)"
   ]
  },
  {
   "cell_type": "markdown",
   "id": "2931b579",
   "metadata": {},
   "source": [
    "### Note : Not all rows are duplicated"
   ]
  },
  {
   "cell_type": "code",
   "execution_count": 7,
   "id": "e1267512",
   "metadata": {},
   "outputs": [
    {
     "name": "stdout",
     "output_type": "stream",
     "text": [
      "7047\n"
     ]
    }
   ],
   "source": [
    "print(df_oversampled.duplicated().sum())"
   ]
  },
  {
   "cell_type": "code",
   "execution_count": 8,
   "id": "892f2720",
   "metadata": {},
   "outputs": [],
   "source": [
    "df_oversampled.to_csv('resample_before_split.csv', index=False)"
   ]
  },
  {
   "cell_type": "markdown",
   "id": "08247161",
   "metadata": {},
   "source": [
    "### Best Model ?"
   ]
  },
  {
   "cell_type": "code",
   "execution_count": 9,
   "id": "475b8e71",
   "metadata": {},
   "outputs": [
    {
     "name": "stdout",
     "output_type": "stream",
     "text": [
      "Train set f1_score :  1.0\n",
      "Test set f1_score :  0.9987073196808149\n"
     ]
    }
   ],
   "source": [
    "x_train_res, x_test_res, y_train_res, y_test_res = train_test_split(x_res, y_res, test_size = .2, random_state=random_seed)\n",
    "\n",
    "clf_dt = DecisionTreeClassifier(random_state=random_seed)\n",
    "clf_dt.fit(x_train_res, y_train_res)\n",
    "print(\"Train set f1_score : \", f1_score(y_train_res, clf_dt.predict(x_train_res)))\n",
    "print(\"Test set f1_score : \", f1_score(y_test_res, clf_dt.predict(x_test_res)))"
   ]
  },
  {
   "cell_type": "markdown",
   "id": "ffd14466",
   "metadata": {},
   "source": [
    "# What happend in Production : resampling before split ?"
   ]
  },
  {
   "cell_type": "code",
   "execution_count": 10,
   "id": "acf97887",
   "metadata": {},
   "outputs": [
    {
     "name": "stdout",
     "output_type": "stream",
     "text": [
      "Real world data Accuracy :  0.9972613321161476\n",
      "Real world data Recall :  0.851063829787234\n",
      "Real World f1_score :  0.5063291139240507\n"
     ]
    }
   ],
   "source": [
    "print(\"Real world data Accuracy : \", clf_dt.score(x_real_world, y_real_world))   # Big red, because of this you never identify your mistakes\n",
    "print(\"Real world data Recall : \", recall_score(y_real_world, clf_dt.predict(x_real_world)))\n",
    "print(\"Real World f1_score : \", f1_score(y_real_world, clf_dt.predict(x_real_world)))"
   ]
  },
  {
   "cell_type": "markdown",
   "id": "7504d3b5",
   "metadata": {},
   "source": [
    "# SMOTE, Oversampling after split"
   ]
  },
  {
   "cell_type": "code",
   "execution_count": 11,
   "id": "43ea4e6b",
   "metadata": {},
   "outputs": [
    {
     "name": "stdout",
     "output_type": "stream",
     "text": [
      "\n",
      "Counts before oversampling : \n",
      " 0    204705\n",
      "1       355\n",
      "Name: col_30, dtype: int64\n",
      "\n",
      "Counts after oversampling : \n",
      " 0    204705\n",
      "1    204705\n",
      "Name: col_30, dtype: int64\n"
     ]
    }
   ],
   "source": [
    "# Train, test split the original data\n",
    "x_train, x_test, y_train, y_test = train_test_split(x, y, test_size = .2, random_state=random_seed)\n",
    "\n",
    "# Oversample using SMOTE\n",
    "sm = SMOTE(random_state=random_seed)\n",
    "x_train_res, y_train_res = sm.fit_resample(x_train, y_train)\n",
    "print(\"\\nCounts before oversampling : \\n\", y_train.value_counts())\n",
    "print(\"\\nCounts after oversampling : \\n\", y_train_res.value_counts())\n",
    "\n"
   ]
  },
  {
   "cell_type": "code",
   "execution_count": 12,
   "id": "e006112c",
   "metadata": {},
   "outputs": [
    {
     "name": "stdout",
     "output_type": "stream",
     "text": [
      "Train set f1_score :  1.0\n",
      "Test set f1_score :  0.549618320610687\n"
     ]
    }
   ],
   "source": [
    "clf_dt = DecisionTreeClassifier(random_state=random_seed)\n",
    "clf_dt.fit(x_train_res, y_train_res)\n",
    "print(\"Train set f1_score : \", f1_score(y_train_res, clf_dt.predict(x_train_res)))\n",
    "print(\"Test set f1_score : \", f1_score(y_test, clf_dt.predict(x_test)))"
   ]
  },
  {
   "cell_type": "code",
   "execution_count": 13,
   "id": "4e5cb7aa",
   "metadata": {},
   "outputs": [
    {
     "name": "stdout",
     "output_type": "stream",
     "text": [
      "Real world data Accuracy :  0.997542221129876\n",
      "Real world data Recall :  0.7872340425531915\n",
      "Real World f1_score :  0.513888888888889\n"
     ]
    }
   ],
   "source": [
    "print(\"Real world data Accuracy : \", clf_dt.score(x_real_world, y_real_world))   # Big red, because of this you never identify your mistakes\n",
    "print(\"Real world data Recall : \", recall_score(y_real_world, clf_dt.predict(x_real_world)))\n",
    "print(\"Real World f1_score : \", f1_score(y_real_world, clf_dt.predict(x_real_world)))\n"
   ]
  }
 ],
 "metadata": {
  "kernelspec": {
   "display_name": "Python 3",
   "language": "python",
   "name": "python3"
  },
  "language_info": {
   "codemirror_mode": {
    "name": "ipython",
    "version": 3
   },
   "file_extension": ".py",
   "mimetype": "text/x-python",
   "name": "python",
   "nbconvert_exporter": "python",
   "pygments_lexer": "ipython3",
   "version": "3.8.8"
  }
 },
 "nbformat": 4,
 "nbformat_minor": 5
}
