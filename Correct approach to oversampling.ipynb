{
 "cells": [
  {
   "cell_type": "code",
   "execution_count": 1,
   "id": "a4cc82b8",
   "metadata": {},
   "outputs": [],
   "source": [
    "# Ref :\n",
    "# https://beckernick.github.io/oversampling-modeling/\n",
    "# https://machinelearningmastery.com/standard-machine-learning-datasets-for-imbalanced-classification/\n",
    "# https://towardsdatascience.com/methods-for-dealing-with-imbalanced-data-5b761be45a18"
   ]
  },
  {
   "cell_type": "code",
   "execution_count": 2,
   "id": "ecee830f",
   "metadata": {},
   "outputs": [],
   "source": [
    "import numpy as np\n",
    "import pandas as pd\n",
    "from sklearn.ensemble import RandomForestClassifier\n",
    "from sklearn.tree import DecisionTreeClassifier  \n",
    "from sklearn.model_selection import train_test_split\n",
    "from sklearn.metrics import recall_score\n",
    "from sklearn.metrics import f1_score\n",
    "from imblearn.over_sampling import SMOTE\n",
    "\n",
    "random_seed = 100"
   ]
  },
  {
   "cell_type": "markdown",
   "id": "5690a157",
   "metadata": {},
   "source": [
    "### Read Data"
   ]
  },
  {
   "cell_type": "code",
   "execution_count": 3,
   "id": "1a6612f6",
   "metadata": {},
   "outputs": [
    {
     "data": {
      "text/html": [
       "<div>\n",
       "<style scoped>\n",
       "    .dataframe tbody tr th:only-of-type {\n",
       "        vertical-align: middle;\n",
       "    }\n",
       "\n",
       "    .dataframe tbody tr th {\n",
       "        vertical-align: top;\n",
       "    }\n",
       "\n",
       "    .dataframe thead th {\n",
       "        text-align: right;\n",
       "    }\n",
       "</style>\n",
       "<table border=\"1\" class=\"dataframe\">\n",
       "  <thead>\n",
       "    <tr style=\"text-align: right;\">\n",
       "      <th></th>\n",
       "      <th>col_0</th>\n",
       "      <th>col_1</th>\n",
       "      <th>col_2</th>\n",
       "      <th>col_3</th>\n",
       "      <th>col_4</th>\n",
       "      <th>col_5</th>\n",
       "      <th>col_6</th>\n",
       "      <th>col_7</th>\n",
       "      <th>col_8</th>\n",
       "      <th>col_9</th>\n",
       "      <th>...</th>\n",
       "      <th>col_21</th>\n",
       "      <th>col_22</th>\n",
       "      <th>col_23</th>\n",
       "      <th>col_24</th>\n",
       "      <th>col_25</th>\n",
       "      <th>col_26</th>\n",
       "      <th>col_27</th>\n",
       "      <th>col_28</th>\n",
       "      <th>col_29</th>\n",
       "      <th>col_30</th>\n",
       "    </tr>\n",
       "  </thead>\n",
       "  <tbody>\n",
       "    <tr>\n",
       "      <th>43425</th>\n",
       "      <td>41504.0</td>\n",
       "      <td>-6.797653</td>\n",
       "      <td>-4.793346</td>\n",
       "      <td>0.853500</td>\n",
       "      <td>0.271509</td>\n",
       "      <td>-0.701888</td>\n",
       "      <td>1.728763</td>\n",
       "      <td>3.228925</td>\n",
       "      <td>-2.099489</td>\n",
       "      <td>2.734830</td>\n",
       "      <td>...</td>\n",
       "      <td>-1.762661</td>\n",
       "      <td>0.303422</td>\n",
       "      <td>0.024669</td>\n",
       "      <td>-0.045650</td>\n",
       "      <td>0.269454</td>\n",
       "      <td>0.679259</td>\n",
       "      <td>-3.236207</td>\n",
       "      <td>3.264494</td>\n",
       "      <td>503.17</td>\n",
       "      <td>0</td>\n",
       "    </tr>\n",
       "    <tr>\n",
       "      <th>157294</th>\n",
       "      <td>109829.0</td>\n",
       "      <td>2.082359</td>\n",
       "      <td>0.048573</td>\n",
       "      <td>-1.358575</td>\n",
       "      <td>0.360051</td>\n",
       "      <td>0.321684</td>\n",
       "      <td>-0.742663</td>\n",
       "      <td>0.032101</td>\n",
       "      <td>-0.323002</td>\n",
       "      <td>2.095164</td>\n",
       "      <td>...</td>\n",
       "      <td>0.109176</td>\n",
       "      <td>0.700305</td>\n",
       "      <td>0.023825</td>\n",
       "      <td>0.556139</td>\n",
       "      <td>0.315860</td>\n",
       "      <td>-0.480242</td>\n",
       "      <td>-0.022373</td>\n",
       "      <td>-0.055645</td>\n",
       "      <td>1.00</td>\n",
       "      <td>0</td>\n",
       "    </tr>\n",
       "    <tr>\n",
       "      <th>102743</th>\n",
       "      <td>68341.0</td>\n",
       "      <td>1.074375</td>\n",
       "      <td>-0.451795</td>\n",
       "      <td>0.700428</td>\n",
       "      <td>0.530760</td>\n",
       "      <td>-0.498340</td>\n",
       "      <td>0.728326</td>\n",
       "      <td>-0.621554</td>\n",
       "      <td>0.250028</td>\n",
       "      <td>0.674246</td>\n",
       "      <td>...</td>\n",
       "      <td>-0.065684</td>\n",
       "      <td>-0.176245</td>\n",
       "      <td>-0.197534</td>\n",
       "      <td>-0.773088</td>\n",
       "      <td>0.367530</td>\n",
       "      <td>0.361757</td>\n",
       "      <td>0.000113</td>\n",
       "      <td>0.019505</td>\n",
       "      <td>84.90</td>\n",
       "      <td>0</td>\n",
       "    </tr>\n",
       "    <tr>\n",
       "      <th>261743</th>\n",
       "      <td>160164.0</td>\n",
       "      <td>-1.279342</td>\n",
       "      <td>-1.869396</td>\n",
       "      <td>-1.275823</td>\n",
       "      <td>-0.921627</td>\n",
       "      <td>-0.111758</td>\n",
       "      <td>-1.405867</td>\n",
       "      <td>0.599728</td>\n",
       "      <td>0.094970</td>\n",
       "      <td>-0.753754</td>\n",
       "      <td>...</td>\n",
       "      <td>0.510062</td>\n",
       "      <td>1.064316</td>\n",
       "      <td>0.809556</td>\n",
       "      <td>-0.129636</td>\n",
       "      <td>-1.439054</td>\n",
       "      <td>-0.458293</td>\n",
       "      <td>0.180995</td>\n",
       "      <td>0.102892</td>\n",
       "      <td>300.00</td>\n",
       "      <td>0</td>\n",
       "    </tr>\n",
       "    <tr>\n",
       "      <th>30387</th>\n",
       "      <td>35899.0</td>\n",
       "      <td>0.683799</td>\n",
       "      <td>-0.647512</td>\n",
       "      <td>1.593073</td>\n",
       "      <td>3.125469</td>\n",
       "      <td>-1.256558</td>\n",
       "      <td>0.839150</td>\n",
       "      <td>-0.636885</td>\n",
       "      <td>0.443054</td>\n",
       "      <td>0.618408</td>\n",
       "      <td>...</td>\n",
       "      <td>-0.151895</td>\n",
       "      <td>-0.515475</td>\n",
       "      <td>-0.090087</td>\n",
       "      <td>0.517485</td>\n",
       "      <td>0.247412</td>\n",
       "      <td>-0.103601</td>\n",
       "      <td>0.015661</td>\n",
       "      <td>0.052367</td>\n",
       "      <td>178.97</td>\n",
       "      <td>0</td>\n",
       "    </tr>\n",
       "    <tr>\n",
       "      <th>197430</th>\n",
       "      <td>132010.0</td>\n",
       "      <td>2.061438</td>\n",
       "      <td>-1.145650</td>\n",
       "      <td>-0.100859</td>\n",
       "      <td>-0.409397</td>\n",
       "      <td>-1.394455</td>\n",
       "      <td>-0.062630</td>\n",
       "      <td>-1.363556</td>\n",
       "      <td>0.148666</td>\n",
       "      <td>0.448967</td>\n",
       "      <td>...</td>\n",
       "      <td>-0.361926</td>\n",
       "      <td>-0.554301</td>\n",
       "      <td>0.436950</td>\n",
       "      <td>0.684930</td>\n",
       "      <td>-0.729978</td>\n",
       "      <td>0.430660</td>\n",
       "      <td>-0.003931</td>\n",
       "      <td>-0.025631</td>\n",
       "      <td>29.46</td>\n",
       "      <td>0</td>\n",
       "    </tr>\n",
       "    <tr>\n",
       "      <th>266372</th>\n",
       "      <td>162303.0</td>\n",
       "      <td>0.158887</td>\n",
       "      <td>0.844501</td>\n",
       "      <td>-0.273970</td>\n",
       "      <td>-0.501845</td>\n",
       "      <td>0.880159</td>\n",
       "      <td>-1.210719</td>\n",
       "      <td>1.432307</td>\n",
       "      <td>-0.399581</td>\n",
       "      <td>-0.160023</td>\n",
       "      <td>...</td>\n",
       "      <td>0.073140</td>\n",
       "      <td>0.387527</td>\n",
       "      <td>-0.238596</td>\n",
       "      <td>-0.079090</td>\n",
       "      <td>0.143720</td>\n",
       "      <td>-0.290074</td>\n",
       "      <td>0.037062</td>\n",
       "      <td>0.028897</td>\n",
       "      <td>12.99</td>\n",
       "      <td>0</td>\n",
       "    </tr>\n",
       "    <tr>\n",
       "      <th>117531</th>\n",
       "      <td>74709.0</td>\n",
       "      <td>1.258466</td>\n",
       "      <td>0.405979</td>\n",
       "      <td>0.321117</td>\n",
       "      <td>0.686284</td>\n",
       "      <td>-0.310995</td>\n",
       "      <td>-1.057697</td>\n",
       "      <td>0.131232</td>\n",
       "      <td>-0.241829</td>\n",
       "      <td>-0.069228</td>\n",
       "      <td>...</td>\n",
       "      <td>-0.280393</td>\n",
       "      <td>-0.774355</td>\n",
       "      <td>0.122077</td>\n",
       "      <td>0.363735</td>\n",
       "      <td>0.239144</td>\n",
       "      <td>0.092243</td>\n",
       "      <td>-0.018511</td>\n",
       "      <td>0.032116</td>\n",
       "      <td>0.91</td>\n",
       "      <td>0</td>\n",
       "    </tr>\n",
       "    <tr>\n",
       "      <th>125136</th>\n",
       "      <td>77546.0</td>\n",
       "      <td>-1.202942</td>\n",
       "      <td>0.939222</td>\n",
       "      <td>2.055081</td>\n",
       "      <td>-0.816046</td>\n",
       "      <td>-0.359038</td>\n",
       "      <td>-0.636781</td>\n",
       "      <td>0.062208</td>\n",
       "      <td>-0.862487</td>\n",
       "      <td>-0.020122</td>\n",
       "      <td>...</td>\n",
       "      <td>0.920108</td>\n",
       "      <td>0.041033</td>\n",
       "      <td>-0.206653</td>\n",
       "      <td>0.443779</td>\n",
       "      <td>0.179280</td>\n",
       "      <td>1.031494</td>\n",
       "      <td>-0.286651</td>\n",
       "      <td>0.106187</td>\n",
       "      <td>1.00</td>\n",
       "      <td>0</td>\n",
       "    </tr>\n",
       "    <tr>\n",
       "      <th>230134</th>\n",
       "      <td>146202.0</td>\n",
       "      <td>0.320465</td>\n",
       "      <td>-4.041756</td>\n",
       "      <td>-1.418161</td>\n",
       "      <td>-0.054670</td>\n",
       "      <td>-2.231265</td>\n",
       "      <td>-0.399258</td>\n",
       "      <td>0.137614</td>\n",
       "      <td>-0.337486</td>\n",
       "      <td>0.071038</td>\n",
       "      <td>...</td>\n",
       "      <td>0.971113</td>\n",
       "      <td>0.686191</td>\n",
       "      <td>-0.700140</td>\n",
       "      <td>-0.005579</td>\n",
       "      <td>-0.567820</td>\n",
       "      <td>-0.158919</td>\n",
       "      <td>-0.162298</td>\n",
       "      <td>0.119019</td>\n",
       "      <td>962.00</td>\n",
       "      <td>0</td>\n",
       "    </tr>\n",
       "  </tbody>\n",
       "</table>\n",
       "<p>10 rows × 31 columns</p>\n",
       "</div>"
      ],
      "text/plain": [
       "           col_0     col_1     col_2     col_3     col_4     col_5     col_6  \\\n",
       "43425    41504.0 -6.797653 -4.793346  0.853500  0.271509 -0.701888  1.728763   \n",
       "157294  109829.0  2.082359  0.048573 -1.358575  0.360051  0.321684 -0.742663   \n",
       "102743   68341.0  1.074375 -0.451795  0.700428  0.530760 -0.498340  0.728326   \n",
       "261743  160164.0 -1.279342 -1.869396 -1.275823 -0.921627 -0.111758 -1.405867   \n",
       "30387    35899.0  0.683799 -0.647512  1.593073  3.125469 -1.256558  0.839150   \n",
       "197430  132010.0  2.061438 -1.145650 -0.100859 -0.409397 -1.394455 -0.062630   \n",
       "266372  162303.0  0.158887  0.844501 -0.273970 -0.501845  0.880159 -1.210719   \n",
       "117531   74709.0  1.258466  0.405979  0.321117  0.686284 -0.310995 -1.057697   \n",
       "125136   77546.0 -1.202942  0.939222  2.055081 -0.816046 -0.359038 -0.636781   \n",
       "230134  146202.0  0.320465 -4.041756 -1.418161 -0.054670 -2.231265 -0.399258   \n",
       "\n",
       "           col_7     col_8     col_9  ...    col_21    col_22    col_23  \\\n",
       "43425   3.228925 -2.099489  2.734830  ... -1.762661  0.303422  0.024669   \n",
       "157294  0.032101 -0.323002  2.095164  ...  0.109176  0.700305  0.023825   \n",
       "102743 -0.621554  0.250028  0.674246  ... -0.065684 -0.176245 -0.197534   \n",
       "261743  0.599728  0.094970 -0.753754  ...  0.510062  1.064316  0.809556   \n",
       "30387  -0.636885  0.443054  0.618408  ... -0.151895 -0.515475 -0.090087   \n",
       "197430 -1.363556  0.148666  0.448967  ... -0.361926 -0.554301  0.436950   \n",
       "266372  1.432307 -0.399581 -0.160023  ...  0.073140  0.387527 -0.238596   \n",
       "117531  0.131232 -0.241829 -0.069228  ... -0.280393 -0.774355  0.122077   \n",
       "125136  0.062208 -0.862487 -0.020122  ...  0.920108  0.041033 -0.206653   \n",
       "230134  0.137614 -0.337486  0.071038  ...  0.971113  0.686191 -0.700140   \n",
       "\n",
       "          col_24    col_25    col_26    col_27    col_28  col_29  col_30  \n",
       "43425  -0.045650  0.269454  0.679259 -3.236207  3.264494  503.17       0  \n",
       "157294  0.556139  0.315860 -0.480242 -0.022373 -0.055645    1.00       0  \n",
       "102743 -0.773088  0.367530  0.361757  0.000113  0.019505   84.90       0  \n",
       "261743 -0.129636 -1.439054 -0.458293  0.180995  0.102892  300.00       0  \n",
       "30387   0.517485  0.247412 -0.103601  0.015661  0.052367  178.97       0  \n",
       "197430  0.684930 -0.729978  0.430660 -0.003931 -0.025631   29.46       0  \n",
       "266372 -0.079090  0.143720 -0.290074  0.037062  0.028897   12.99       0  \n",
       "117531  0.363735  0.239144  0.092243 -0.018511  0.032116    0.91       0  \n",
       "125136  0.443779  0.179280  1.031494 -0.286651  0.106187    1.00       0  \n",
       "230134 -0.005579 -0.567820 -0.158919 -0.162298  0.119019  962.00       0  \n",
       "\n",
       "[10 rows x 31 columns]"
      ]
     },
     "execution_count": 3,
     "metadata": {},
     "output_type": "execute_result"
    }
   ],
   "source": [
    "df = pd.read_csv('creditcard.csv', header=None)\n",
    "df.columns = ['col_' + str(col) for col in df.columns]\n",
    "df.sample(10)"
   ]
  },
  {
   "cell_type": "markdown",
   "id": "ed6ad80a",
   "metadata": {},
   "source": [
    "## check imblanace of target class"
   ]
  },
  {
   "cell_type": "code",
   "execution_count": 4,
   "id": "8767ca80",
   "metadata": {},
   "outputs": [
    {
     "data": {
      "text/plain": [
       "0    284315\n",
       "1       492\n",
       "Name: col_30, dtype: int64"
      ]
     },
     "execution_count": 4,
     "metadata": {},
     "output_type": "execute_result"
    }
   ],
   "source": [
    "df_features = df.drop(['col_30'], axis=1)\n",
    "df_target = df['col_30']\n",
    "df_target.value_counts()"
   ]
  },
  {
   "cell_type": "code",
   "execution_count": 5,
   "id": "1f944ad6",
   "metadata": {},
   "outputs": [
    {
     "name": "stdout",
     "output_type": "stream",
     "text": [
      "1081\n"
     ]
    }
   ],
   "source": [
    "print(df_features.duplicated().sum())"
   ]
  },
  {
   "cell_type": "markdown",
   "id": "c048fa74",
   "metadata": {},
   "source": [
    "## Keep 10% of data aside to validate which technique would really work ?"
   ]
  },
  {
   "cell_type": "code",
   "execution_count": 6,
   "id": "9a101ba0",
   "metadata": {},
   "outputs": [],
   "source": [
    "x, x_real_world, y, y_real_world = train_test_split(df_features, df_target, test_size = .1, random_state=random_seed)"
   ]
  },
  {
   "cell_type": "markdown",
   "id": "9c7e9ed3",
   "metadata": {},
   "source": [
    "# SMOTE Before Split"
   ]
  },
  {
   "cell_type": "code",
   "execution_count": 7,
   "id": "8d2b77e5",
   "metadata": {},
   "outputs": [
    {
     "name": "stdout",
     "output_type": "stream",
     "text": [
      "\n",
      "Counts before oversampling : \n",
      " 0    255881\n",
      "1       445\n",
      "Name: col_30, dtype: int64\n",
      "\n",
      "Counts after oversampling : \n",
      " 0    255881\n",
      "1    255881\n",
      "Name: col_30, dtype: int64\n"
     ]
    }
   ],
   "source": [
    "sm = SMOTE(random_state=random_seed)\n",
    "x_res, y_res = sm.fit_resample(x, y)\n",
    "print(\"\\nCounts before oversampling : \\n\", y.value_counts())\n",
    "print(\"\\nCounts after oversampling : \\n\", y_res.value_counts())\n",
    "\n",
    "df_oversampled = pd.concat([x_res,y_res], axis=1)"
   ]
  },
  {
   "cell_type": "markdown",
   "id": "2931b579",
   "metadata": {},
   "source": [
    "### Note : Not all rows are duplicated"
   ]
  },
  {
   "cell_type": "code",
   "execution_count": 8,
   "id": "e1267512",
   "metadata": {},
   "outputs": [
    {
     "name": "stdout",
     "output_type": "stream",
     "text": [
      "7047\n"
     ]
    }
   ],
   "source": [
    "print(df_oversampled.duplicated().sum())"
   ]
  },
  {
   "cell_type": "code",
   "execution_count": 9,
   "id": "892f2720",
   "metadata": {},
   "outputs": [],
   "source": [
    "df_oversampled.sample(1000).to_csv('resample_before_split.csv', index=False)"
   ]
  },
  {
   "cell_type": "markdown",
   "id": "08247161",
   "metadata": {},
   "source": [
    "### Best Model ?"
   ]
  },
  {
   "cell_type": "code",
   "execution_count": 10,
   "id": "475b8e71",
   "metadata": {},
   "outputs": [
    {
     "name": "stdout",
     "output_type": "stream",
     "text": [
      "Train set f1_score :  1.0\n",
      "Test set f1_score :  0.9987073196808149\n"
     ]
    }
   ],
   "source": [
    "x_train_res, x_test_res, y_train_res, y_test_res = train_test_split(x_res, y_res, test_size = .2, random_state=random_seed)\n",
    "\n",
    "clf_dt = DecisionTreeClassifier(random_state=random_seed)\n",
    "clf_dt.fit(x_train_res, y_train_res)\n",
    "print(\"Train set f1_score : \", f1_score(y_train_res, clf_dt.predict(x_train_res)))\n",
    "print(\"Test set f1_score : \", f1_score(y_test_res, clf_dt.predict(x_test_res)))"
   ]
  },
  {
   "cell_type": "markdown",
   "id": "ffd14466",
   "metadata": {},
   "source": [
    "# What happend in Production : resampling before split ?"
   ]
  },
  {
   "cell_type": "code",
   "execution_count": 11,
   "id": "acf97887",
   "metadata": {},
   "outputs": [
    {
     "name": "stdout",
     "output_type": "stream",
     "text": [
      "Real world data Accuracy :  0.9972613321161476\n",
      "Real world data Recall :  0.851063829787234\n",
      "Real World f1_score :  0.5063291139240507\n"
     ]
    }
   ],
   "source": [
    "print(\"Real world data Accuracy : \", clf_dt.score(x_real_world, y_real_world))   # Big red, because of this you never identify your mistakes\n",
    "print(\"Real world data Recall : \", recall_score(y_real_world, clf_dt.predict(x_real_world)))\n",
    "print(\"Real World f1_score : \", f1_score(y_real_world, clf_dt.predict(x_real_world)))"
   ]
  },
  {
   "cell_type": "markdown",
   "id": "7504d3b5",
   "metadata": {},
   "source": [
    "# SMOTE, Oversampling after split"
   ]
  },
  {
   "cell_type": "code",
   "execution_count": 12,
   "id": "43ea4e6b",
   "metadata": {},
   "outputs": [
    {
     "name": "stdout",
     "output_type": "stream",
     "text": [
      "\n",
      "Counts before oversampling : \n",
      " 0    204705\n",
      "1       355\n",
      "Name: col_30, dtype: int64\n",
      "\n",
      "Counts after oversampling : \n",
      " 0    204705\n",
      "1    204705\n",
      "Name: col_30, dtype: int64\n"
     ]
    }
   ],
   "source": [
    "# Train, test split the original data\n",
    "x_train, x_test, y_train, y_test = train_test_split(x, y, test_size = .2, random_state=random_seed)\n",
    "\n",
    "# Oversample using SMOTE\n",
    "sm = SMOTE(random_state=random_seed)\n",
    "x_train_res, y_train_res = sm.fit_resample(x_train, y_train)\n",
    "print(\"\\nCounts before oversampling : \\n\", y_train.value_counts())\n",
    "print(\"\\nCounts after oversampling : \\n\", y_train_res.value_counts())\n",
    "\n"
   ]
  },
  {
   "cell_type": "code",
   "execution_count": 13,
   "id": "e006112c",
   "metadata": {},
   "outputs": [
    {
     "name": "stdout",
     "output_type": "stream",
     "text": [
      "Train set f1_score :  1.0\n",
      "Test set f1_score :  0.549618320610687\n"
     ]
    }
   ],
   "source": [
    "clf_dt = DecisionTreeClassifier(random_state=random_seed)\n",
    "clf_dt.fit(x_train_res, y_train_res)\n",
    "print(\"Train set f1_score : \", f1_score(y_train_res, clf_dt.predict(x_train_res)))\n",
    "print(\"Test set f1_score : \", f1_score(y_test, clf_dt.predict(x_test)))"
   ]
  },
  {
   "cell_type": "code",
   "execution_count": 14,
   "id": "4e5cb7aa",
   "metadata": {},
   "outputs": [
    {
     "name": "stdout",
     "output_type": "stream",
     "text": [
      "Real world data Accuracy :  0.997542221129876\n",
      "Real world data Recall :  0.7872340425531915\n",
      "Real World f1_score :  0.513888888888889\n"
     ]
    }
   ],
   "source": [
    "print(\"Real world data Accuracy : \", clf_dt.score(x_real_world, y_real_world))   # Big red, because of this you never identify your mistakes\n",
    "print(\"Real world data Recall : \", recall_score(y_real_world, clf_dt.predict(x_real_world)))\n",
    "print(\"Real World f1_score : \", f1_score(y_real_world, clf_dt.predict(x_real_world)))\n"
   ]
  }
 ],
 "metadata": {
  "kernelspec": {
   "display_name": "Python 3",
   "language": "python",
   "name": "python3"
  },
  "language_info": {
   "codemirror_mode": {
    "name": "ipython",
    "version": 3
   },
   "file_extension": ".py",
   "mimetype": "text/x-python",
   "name": "python",
   "nbconvert_exporter": "python",
   "pygments_lexer": "ipython3",
   "version": "3.8.8"
  }
 },
 "nbformat": 4,
 "nbformat_minor": 5
}
